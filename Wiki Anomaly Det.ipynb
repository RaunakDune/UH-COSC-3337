{
 "cells": [
  {
   "cell_type": "markdown",
   "id": "c175278e-5eec-4cee-96ec-5dd98579d505",
   "metadata": {},
   "source": [
    "# COSC 3337 - Fall 2023 \n",
    "# Task 5 AutoEncoder/Anomaly Detection\n",
    "## Wikipedia Traffic Dataset\n",
    "### Raunak Sarbajna"
   ]
  },
  {
   "cell_type": "code",
   "execution_count": 117,
   "id": "9db57e7c-38b0-4a6c-9d82-54cede11fb46",
   "metadata": {},
   "outputs": [],
   "source": [
    "import numpy as np\n",
    "import pandas as pd\n",
    "import tensorflow as tf\n",
    "from sklearn.model_selection import train_test_split\n",
    "from sklearn.preprocessing import MinMaxScaler\n",
    "import matplotlib.pyplot as plt\n",
    "from tensorflow import keras\n",
    "from tensorflow.keras import layers\n",
    "import seaborn as sns"
   ]
  },
  {
   "cell_type": "markdown",
   "id": "26dfda58-7b53-4092-b999-b210c9626458",
   "metadata": {},
   "source": [
    "## Question 1\n",
    "### Visualize the following dataset"
   ]
  },
  {
   "cell_type": "code",
   "execution_count": 118,
   "id": "b8421778-1e1d-4a1b-8ba7-3291b377b7e6",
   "metadata": {},
   "outputs": [
    {
     "data": {
      "text/html": [
       "<div>\n",
       "<style scoped>\n",
       "    .dataframe tbody tr th:only-of-type {\n",
       "        vertical-align: middle;\n",
       "    }\n",
       "\n",
       "    .dataframe tbody tr th {\n",
       "        vertical-align: top;\n",
       "    }\n",
       "\n",
       "    .dataframe thead th {\n",
       "        text-align: right;\n",
       "    }\n",
       "</style>\n",
       "<table border=\"1\" class=\"dataframe\">\n",
       "  <thead>\n",
       "    <tr style=\"text-align: right;\">\n",
       "      <th></th>\n",
       "      <th>English</th>\n",
       "      <th>Japanese</th>\n",
       "      <th>German</th>\n",
       "      <th>French</th>\n",
       "      <th>Chinese</th>\n",
       "      <th>Russian</th>\n",
       "      <th>Spanish</th>\n",
       "    </tr>\n",
       "    <tr>\n",
       "      <th>Date</th>\n",
       "      <th></th>\n",
       "      <th></th>\n",
       "      <th></th>\n",
       "      <th></th>\n",
       "      <th></th>\n",
       "      <th></th>\n",
       "      <th></th>\n",
       "    </tr>\n",
       "  </thead>\n",
       "  <tbody>\n",
       "    <tr>\n",
       "      <th>01-07-2015</th>\n",
       "      <td>3513.862203</td>\n",
       "      <td>580.647056</td>\n",
       "      <td>714.968405</td>\n",
       "      <td>475.150994</td>\n",
       "      <td>240.582042</td>\n",
       "      <td>629.999601</td>\n",
       "      <td>1085.972919</td>\n",
       "    </tr>\n",
       "    <tr>\n",
       "      <th>02-07-2015</th>\n",
       "      <td>3502.511407</td>\n",
       "      <td>666.672801</td>\n",
       "      <td>705.229741</td>\n",
       "      <td>478.202000</td>\n",
       "      <td>240.941958</td>\n",
       "      <td>640.902876</td>\n",
       "      <td>1037.814557</td>\n",
       "    </tr>\n",
       "    <tr>\n",
       "      <th>03-07-2015</th>\n",
       "      <td>3325.357889</td>\n",
       "      <td>602.289805</td>\n",
       "      <td>676.877231</td>\n",
       "      <td>459.837659</td>\n",
       "      <td>239.344071</td>\n",
       "      <td>594.026295</td>\n",
       "      <td>954.412680</td>\n",
       "    </tr>\n",
       "    <tr>\n",
       "      <th>04-07-2015</th>\n",
       "      <td>3462.054256</td>\n",
       "      <td>756.509177</td>\n",
       "      <td>621.145145</td>\n",
       "      <td>491.508932</td>\n",
       "      <td>241.653491</td>\n",
       "      <td>558.728132</td>\n",
       "      <td>896.050750</td>\n",
       "    </tr>\n",
       "    <tr>\n",
       "      <th>05-07-2015</th>\n",
       "      <td>3575.520035</td>\n",
       "      <td>725.720914</td>\n",
       "      <td>722.076185</td>\n",
       "      <td>482.557746</td>\n",
       "      <td>257.779674</td>\n",
       "      <td>595.029157</td>\n",
       "      <td>974.508210</td>\n",
       "    </tr>\n",
       "    <tr>\n",
       "      <th>...</th>\n",
       "      <td>...</td>\n",
       "      <td>...</td>\n",
       "      <td>...</td>\n",
       "      <td>...</td>\n",
       "      <td>...</td>\n",
       "      <td>...</td>\n",
       "      <td>...</td>\n",
       "    </tr>\n",
       "    <tr>\n",
       "      <th>27-12-2016</th>\n",
       "      <td>6040.680728</td>\n",
       "      <td>789.158680</td>\n",
       "      <td>1085.095379</td>\n",
       "      <td>858.413100</td>\n",
       "      <td>376.019618</td>\n",
       "      <td>1001.209426</td>\n",
       "      <td>1133.367901</td>\n",
       "    </tr>\n",
       "    <tr>\n",
       "      <th>28-12-2016</th>\n",
       "      <td>5860.227559</td>\n",
       "      <td>790.500465</td>\n",
       "      <td>1032.640804</td>\n",
       "      <td>774.155769</td>\n",
       "      <td>378.048639</td>\n",
       "      <td>931.987685</td>\n",
       "      <td>1178.290923</td>\n",
       "    </tr>\n",
       "    <tr>\n",
       "      <th>29-12-2016</th>\n",
       "      <td>6245.127510</td>\n",
       "      <td>865.483236</td>\n",
       "      <td>994.657141</td>\n",
       "      <td>752.712954</td>\n",
       "      <td>350.719426</td>\n",
       "      <td>897.282452</td>\n",
       "      <td>1112.171085</td>\n",
       "    </tr>\n",
       "    <tr>\n",
       "      <th>30-12-2016</th>\n",
       "      <td>5201.783018</td>\n",
       "      <td>952.018354</td>\n",
       "      <td>949.265649</td>\n",
       "      <td>700.543422</td>\n",
       "      <td>354.704452</td>\n",
       "      <td>803.271868</td>\n",
       "      <td>821.671405</td>\n",
       "    </tr>\n",
       "    <tr>\n",
       "      <th>31-12-2016</th>\n",
       "      <td>5127.916418</td>\n",
       "      <td>1197.239440</td>\n",
       "      <td>893.013425</td>\n",
       "      <td>646.258342</td>\n",
       "      <td>365.579256</td>\n",
       "      <td>880.244508</td>\n",
       "      <td>787.399531</td>\n",
       "    </tr>\n",
       "  </tbody>\n",
       "</table>\n",
       "<p>550 rows × 7 columns</p>\n",
       "</div>"
      ],
      "text/plain": [
       "                English     Japanese       German      French     Chinese  \\\n",
       "Date                                                                        \n",
       "01-07-2015  3513.862203   580.647056   714.968405  475.150994  240.582042   \n",
       "02-07-2015  3502.511407   666.672801   705.229741  478.202000  240.941958   \n",
       "03-07-2015  3325.357889   602.289805   676.877231  459.837659  239.344071   \n",
       "04-07-2015  3462.054256   756.509177   621.145145  491.508932  241.653491   \n",
       "05-07-2015  3575.520035   725.720914   722.076185  482.557746  257.779674   \n",
       "...                 ...          ...          ...         ...         ...   \n",
       "27-12-2016  6040.680728   789.158680  1085.095379  858.413100  376.019618   \n",
       "28-12-2016  5860.227559   790.500465  1032.640804  774.155769  378.048639   \n",
       "29-12-2016  6245.127510   865.483236   994.657141  752.712954  350.719426   \n",
       "30-12-2016  5201.783018   952.018354   949.265649  700.543422  354.704452   \n",
       "31-12-2016  5127.916418  1197.239440   893.013425  646.258342  365.579256   \n",
       "\n",
       "                Russian      Spanish  \n",
       "Date                                  \n",
       "01-07-2015   629.999601  1085.972919  \n",
       "02-07-2015   640.902876  1037.814557  \n",
       "03-07-2015   594.026295   954.412680  \n",
       "04-07-2015   558.728132   896.050750  \n",
       "05-07-2015   595.029157   974.508210  \n",
       "...                 ...          ...  \n",
       "27-12-2016  1001.209426  1133.367901  \n",
       "28-12-2016   931.987685  1178.290923  \n",
       "29-12-2016   897.282452  1112.171085  \n",
       "30-12-2016   803.271868   821.671405  \n",
       "31-12-2016   880.244508   787.399531  \n",
       "\n",
       "[550 rows x 7 columns]"
      ]
     },
     "execution_count": 118,
     "metadata": {},
     "output_type": "execute_result"
    }
   ],
   "source": [
    "# Load the data\n",
    "data = pd.read_csv('wiki_lang_summ.csv', index_col=0)\n",
    "data"
   ]
  },
  {
   "cell_type": "markdown",
   "id": "dacee079-dcae-40ed-a458-3886cfc8db36",
   "metadata": {},
   "source": [
    "## Question 1\n",
    "### Enter your UH-ID here"
   ]
  },
  {
   "cell_type": "code",
   "execution_count": 119,
   "id": "772e2729-2923-4e2f-a618-98f35a1029cc",
   "metadata": {},
   "outputs": [
    {
     "data": {
      "text/html": [
       "<div>\n",
       "<style scoped>\n",
       "    .dataframe tbody tr th:only-of-type {\n",
       "        vertical-align: middle;\n",
       "    }\n",
       "\n",
       "    .dataframe tbody tr th {\n",
       "        vertical-align: top;\n",
       "    }\n",
       "\n",
       "    .dataframe thead th {\n",
       "        text-align: right;\n",
       "    }\n",
       "</style>\n",
       "<table border=\"1\" class=\"dataframe\">\n",
       "  <thead>\n",
       "    <tr style=\"text-align: right;\">\n",
       "      <th></th>\n",
       "      <th>Japanese</th>\n",
       "    </tr>\n",
       "    <tr>\n",
       "      <th>Date</th>\n",
       "      <th></th>\n",
       "    </tr>\n",
       "  </thead>\n",
       "  <tbody>\n",
       "    <tr>\n",
       "      <th>01-07-2015</th>\n",
       "      <td>580.647056</td>\n",
       "    </tr>\n",
       "    <tr>\n",
       "      <th>02-07-2015</th>\n",
       "      <td>666.672801</td>\n",
       "    </tr>\n",
       "    <tr>\n",
       "      <th>03-07-2015</th>\n",
       "      <td>602.289805</td>\n",
       "    </tr>\n",
       "    <tr>\n",
       "      <th>04-07-2015</th>\n",
       "      <td>756.509177</td>\n",
       "    </tr>\n",
       "    <tr>\n",
       "      <th>05-07-2015</th>\n",
       "      <td>725.720914</td>\n",
       "    </tr>\n",
       "    <tr>\n",
       "      <th>...</th>\n",
       "      <td>...</td>\n",
       "    </tr>\n",
       "    <tr>\n",
       "      <th>27-12-2016</th>\n",
       "      <td>789.158680</td>\n",
       "    </tr>\n",
       "    <tr>\n",
       "      <th>28-12-2016</th>\n",
       "      <td>790.500465</td>\n",
       "    </tr>\n",
       "    <tr>\n",
       "      <th>29-12-2016</th>\n",
       "      <td>865.483236</td>\n",
       "    </tr>\n",
       "    <tr>\n",
       "      <th>30-12-2016</th>\n",
       "      <td>952.018354</td>\n",
       "    </tr>\n",
       "    <tr>\n",
       "      <th>31-12-2016</th>\n",
       "      <td>1197.239440</td>\n",
       "    </tr>\n",
       "  </tbody>\n",
       "</table>\n",
       "<p>550 rows × 1 columns</p>\n",
       "</div>"
      ],
      "text/plain": [
       "               Japanese\n",
       "Date                   \n",
       "01-07-2015   580.647056\n",
       "02-07-2015   666.672801\n",
       "03-07-2015   602.289805\n",
       "04-07-2015   756.509177\n",
       "05-07-2015   725.720914\n",
       "...                 ...\n",
       "27-12-2016   789.158680\n",
       "28-12-2016   790.500465\n",
       "29-12-2016   865.483236\n",
       "30-12-2016   952.018354\n",
       "31-12-2016  1197.239440\n",
       "\n",
       "[550 rows x 1 columns]"
      ]
     },
     "execution_count": 119,
     "metadata": {},
     "output_type": "execute_result"
    }
   ],
   "source": [
    "uh_ID = 1111111\n",
    "df_sel = data.iloc[:,[uh_ID%7]]\n",
    "df_sel"
   ]
  },
  {
   "cell_type": "code",
   "execution_count": 120,
   "id": "84937932-2d89-4d39-ad6e-55a576bc73a7",
   "metadata": {},
   "outputs": [
    {
     "name": "stdout",
     "output_type": "stream",
     "text": [
      "Number of training samples: 550\n"
     ]
    }
   ],
   "source": [
    "training_mean = df_sel.mean()\n",
    "training_std = df_sel.std()\n",
    "df_training_value = (df_sel - training_mean) / training_std\n",
    "print(\"Number of training samples:\", len(df_training_value))"
   ]
  },
  {
   "cell_type": "code",
   "execution_count": 121,
   "id": "5836cfe1-08a8-43be-862a-1ff47b03aeb8",
   "metadata": {},
   "outputs": [
    {
     "data": {
      "image/png": "[encoded data removed]",
      "text/plain": [
       "<Figure size 432x288 with 1 Axes>"
      ]
     },
     "metadata": {
      "needs_background": "light"
     },
     "output_type": "display_data"
    }
   ],
   "source": [
    "fig, ax = plt.subplots()\n",
    "df_sel.plot(legend=False, ax=ax)\n",
    "plt.show()\n"
   ]
  },
  {
   "cell_type": "code",
   "execution_count": 124,
   "id": "418f001c-916b-4666-9d03-fbb50541ef18",
   "metadata": {},
   "outputs": [],
   "source": [
    "# Preprocess the data\n",
    "scaler = MinMaxScaler()\n",
    "data_scaled = scaler.fit_transform(df_sel)"
   ]
  },
  {
   "cell_type": "markdown",
   "id": "1b508550-a919-4611-9ba3-bb52d24451a1",
   "metadata": {},
   "source": [
    "## Question 1\n",
    "### Modify the following train/test/validation split according to your need"
   ]
  },
  {
   "cell_type": "code",
   "execution_count": 125,
   "id": "3edce1d6-45a4-45b2-b49f-4fefeea9fefc",
   "metadata": {},
   "outputs": [
    {
     "name": "stdout",
     "output_type": "stream",
     "text": [
      "(412, 1)\n"
     ]
    }
   ],
   "source": [
    "train_ratio = 0.75\n",
    "validation_ratio = 0.15\n",
    "test_ratio = 0.10\n",
    "\n",
    "# train is now 75% of the entire data set\n",
    "X_train, X_test = train_test_split(data_scaled, test_size=1 - train_ratio, shuffle=False)\n",
    "\n",
    "# test is now 10% of the initial data set\n",
    "# validation is now 15% of the initial data set\n",
    "X_val, X_test = train_test_split(X_test, test_size=test_ratio/(test_ratio + validation_ratio), shuffle=False) \n",
    "\n",
    "print(X_train.shape)"
   ]
  },
  {
   "cell_type": "markdown",
   "id": "3786a96f-e0dc-4cd3-a505-597ac22f19a2",
   "metadata": {},
   "source": [
    "## Question 2\n",
    "### Modify the following encoder/decoder layers. You can add/remove layers, change sizes, add dropouts."
   ]
  },
  {
   "cell_type": "code",
   "execution_count": 126,
   "id": "9bc167f1-6057-4dc9-988f-0aee8594f0e2",
   "metadata": {},
   "outputs": [
    {
     "name": "stdout",
     "output_type": "stream",
     "text": [
      "Model: \"model_4\"\n",
      "_________________________________________________________________\n",
      " Layer (type)                Output Shape              Param #   \n",
      "=================================================================\n",
      " input_6 (InputLayer)        [(None, 412, 1)]          0         \n",
      "                                                                 \n",
      " sequential_13 (Sequential)  (None, 412, 4)            204       \n",
      "                                                                 \n",
      " sequential_14 (Sequential)  (None, 412, 32)           728       \n",
      "                                                                 \n",
      "=================================================================\n",
      "Total params: 932 (3.64 KB)\n",
      "Trainable params: 932 (3.64 KB)\n",
      "Non-trainable params: 0 (0.00 Byte)\n",
      "_________________________________________________________________\n"
     ]
    }
   ],
   "source": [
    "# Input layer\n",
    "input = tf.keras.layers.Input(shape=X_train.shape)\n",
    "\n",
    "# Encoder layers\n",
    "encoder = tf.keras.Sequential([\n",
    "    layers.Dense(16, activation='relu'),\n",
    "    layers.Dense(8, activation='relu'),\n",
    "    layers.Dense(4, activation='relu')])(input)\n",
    "\n",
    "# Decoder layers\n",
    "decoder = tf.keras.Sequential([\n",
    "      layers.Dense(8, activation=\"relu\"),\n",
    "      layers.Dense(16, activation=\"relu\"),\n",
    "      layers.Dense(32, activation=\"sigmoid\")])(encoder)\n",
    "\n",
    "# Create the autoencoder\n",
    "autoencoder = tf.keras.Model(inputs=input, outputs=decoder)\n",
    "autoencoder.summary()"
   ]
  },
  {
   "cell_type": "markdown",
   "id": "6fdef328-325a-45d5-a100-dc924cc9c3a8",
   "metadata": {},
   "source": [
    "## Question 2\n",
    "### Compile. Change the number of epochs and batch size to get a good loss value using the plot in the next cell."
   ]
  },
  {
   "cell_type": "code",
   "execution_count": 127,
   "id": "cd8129b6-26e3-4989-b85b-e41cdf134a58",
   "metadata": {},
   "outputs": [
    {
     "name": "stdout",
     "output_type": "stream",
     "text": [
      "Epoch 1/50\n",
      "13/13 [==============================] - 1s 19ms/step - loss: 0.0500 - val_loss: 0.0214\n",
      "Epoch 2/50\n",
      "13/13 [==============================] - 0s 5ms/step - loss: 0.0484 - val_loss: 0.0203\n",
      "Epoch 3/50\n",
      "13/13 [==============================] - 0s 4ms/step - loss: 0.0463 - val_loss: 0.0187\n",
      "Epoch 4/50\n",
      "13/13 [==============================] - 0s 4ms/step - loss: 0.0433 - val_loss: 0.0167\n",
      "Epoch 5/50\n",
      "13/13 [==============================] - 0s 4ms/step - loss: 0.0391 - val_loss: 0.0143\n",
      "Epoch 6/50\n",
      "13/13 [==============================] - 0s 4ms/step - loss: 0.0336 - val_loss: 0.0122\n",
      "Epoch 7/50\n",
      "13/13 [==============================] - 0s 4ms/step - loss: 0.0277 - val_loss: 0.0127\n",
      "Epoch 8/50\n",
      "13/13 [==============================] - 0s 4ms/step - loss: 0.0230 - val_loss: 0.0148\n",
      "Epoch 9/50\n",
      "13/13 [==============================] - 0s 4ms/step - loss: 0.0204 - val_loss: 0.0147\n",
      "Epoch 10/50\n",
      "13/13 [==============================] - 0s 4ms/step - loss: 0.0189 - val_loss: 0.0142\n",
      "Epoch 11/50\n",
      "13/13 [==============================] - 0s 4ms/step - loss: 0.0177 - val_loss: 0.0137\n"
     ]
    }
   ],
   "source": [
    "# Compile the autoencoder model\n",
    "autoencoder.compile(optimizer='adam', loss='mse')\n",
    "\n",
    "# Train the autoencoder model\n",
    "auto_history = autoencoder.fit(X_train, X_train, \n",
    "                epochs=50, \n",
    "                batch_size=32, \n",
    "                validation_data=(X_val, X_val),\n",
    "                callbacks=[\n",
    "                    keras.callbacks.EarlyStopping(monitor=\"val_loss\", patience=5, mode=\"min\")],\n",
    "               )\n"
   ]
  },
  {
   "cell_type": "code",
   "execution_count": 128,
   "id": "0a8fb3de-c8d9-412a-a50e-35a3c6b10d76",
   "metadata": {},
   "outputs": [
    {
     "data": {
      "image/png": "[encoded data removed]",
      "text/plain": [
       "<Figure size 432x288 with 1 Axes>"
      ]
     },
     "metadata": {
      "needs_background": "light"
     },
     "output_type": "display_data"
    }
   ],
   "source": [
    "plt.plot(auto_history.history[\"loss\"], label=\"Training Loss\")\n",
    "plt.plot(auto_history.history[\"val_loss\"], label=\"Validation Loss\")\n",
    "plt.legend()\n",
    "plt.show()\n"
   ]
  },
  {
   "cell_type": "markdown",
   "id": "50d64dc9-6606-47e6-9e66-a15e95da9ec8",
   "metadata": {},
   "source": [
    "## Question 2\n",
    "### Three systems for finding error threshold are provided. Pick the best. Explain Why.\n",
    "### Add a system for error threshold being 3-standard deviations.\n",
    "(hint: mean(error) + 3*standard_deviation(error))"
   ]
  },
  {
   "cell_type": "code",
   "execution_count": 129,
   "id": "d6c4066a-bf14-4502-9804-5d0f8f9f29b5",
   "metadata": {},
   "outputs": [
    {
     "name": "stdout",
     "output_type": "stream",
     "text": [
      "2/2 [==============================] - 0s 2ms/step\n",
      "Reconstruction error threshold using 99 quantile:  0.016836231461684614\n",
      "Reconstruction error threshold using 98 percentile:  0.23585387455173962\n",
      "13/13 [==============================] - 0s 1ms/step\n",
      "Reconstruction error threshold:  0.1532250554169467\n"
     ]
    }
   ],
   "source": [
    "# Reconstruct the data\n",
    "X_rec = autoencoder.predict(X_test)\n",
    "\n",
    "# Calculate the reconstruction error\n",
    "reconstruction_error = np.mean(np.square(X_test - X_rec), axis=1)\n",
    "# Set a threshold for the reconstruction error to determine anomalies\n",
    "threshold = np.quantile(reconstruction_error, 0.99)\n",
    "print(\"Reconstruction error threshold using 99 quantile: \", threshold)\n",
    "\n",
    "# for check the prediction loss threshold for 2% of outliers\n",
    "prediction_loss = tf.keras.losses.mae(X_rec, X_test)\n",
    "threshold = np.percentile(prediction_loss, 98)\n",
    "print(\"Reconstruction error threshold using 98 percentile: \", threshold)\n",
    "\n",
    "# Get train MAE loss.\n",
    "x_train_pred = autoencoder.predict(X_train)\n",
    "train_mae_loss = np.mean(np.abs(x_train_pred - X_train), axis=1)\n",
    "# Get reconstruction loss threshold.\n",
    "threshold = np.max(train_mae_loss)\n",
    "print(\"Reconstruction error threshold: \", threshold)\n",
    "\n",
    "# Identify anomalies\n",
    "anomalies = reconstruction_error > threshold"
   ]
  },
  {
   "cell_type": "markdown",
   "id": "8f140e3d-1de1-4325-a52c-3cd5738759ba",
   "metadata": {},
   "source": [
    "## Question 2\n",
    "### Explain the figures in the next three cells.\n",
    "### Visualize the \"anomalies\" variable."
   ]
  },
  {
   "cell_type": "code",
   "execution_count": 137,
   "id": "3ab86018-e7a8-4da6-9a3d-07e5a599209c",
   "metadata": {},
   "outputs": [
    {
     "data": {
      "image/png": "[encoded data removed]",
      "text/plain": [
       "<Figure size 432x288 with 1 Axes>"
      ]
     },
     "metadata": {
      "needs_background": "light"
     },
     "output_type": "display_data"
    }
   ],
   "source": [
    "plt.hist(train_mae_loss, bins=50)\n",
    "plt.xlabel(\"Train MAE loss\")\n",
    "plt.ylabel(\"No of samples\")\n",
    "plt.show()"
   ]
  },
  {
   "cell_type": "code",
   "execution_count": 138,
   "id": "52406045-5bb6-4f42-a7f9-919fe512b7bc",
   "metadata": {},
   "outputs": [
    {
     "data": {
      "image/png": "[encoded data removed]",
      "text/plain": [
       "<Figure size 432x288 with 1 Axes>"
      ]
     },
     "metadata": {
      "needs_background": "light"
     },
     "output_type": "display_data"
    }
   ],
   "source": [
    "plt.hist(reconstruction_error, bins=50)\n",
    "plt.xlabel(\"Reconstruction Error\")\n",
    "plt.ylabel(\"No of samples\")\n",
    "plt.show()"
   ]
  },
  {
   "cell_type": "code",
   "execution_count": 134,
   "id": "70a8f3c6-2c3b-49e1-a918-2fc585c443cb",
   "metadata": {},
   "outputs": [
    {
     "data": {
      "image/png": "[encoded data removed]",
      "text/plain": [
       "<Figure size 432x288 with 1 Axes>"
      ]
     },
     "metadata": {
      "needs_background": "light"
     },
     "output_type": "display_data"
    }
   ],
   "source": [
    "plt.hist(prediction_loss, bins=50)\n",
    "plt.xlabel(\"Prediction loss\")\n",
    "plt.ylabel(\"No of samples\")\n",
    "plt.show()\n"
   ]
  },
  {
   "cell_type": "code",
   "execution_count": null,
   "id": "c333e81f-67d9-4f25-aacb-faef536822b2",
   "metadata": {},
   "outputs": [],
   "source": []
  }
 ],
 "metadata": {
  "kernelspec": {
   "display_name": "Python 3 (ipykernel)",
   "language": "python",
   "name": "python3"
  },
  "language_info": {
   "codemirror_mode": {
    "name": "ipython",
    "version": 3
   },
   "file_extension": ".py",
   "mimetype": "text/x-python",
   "name": "python",
   "nbconvert_exporter": "python",
   "pygments_lexer": "ipython3",
   "version": "3.10.2"
  }
 },
 "nbformat": 4,
 "nbformat_minor": 5
}
